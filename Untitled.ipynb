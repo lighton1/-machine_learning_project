{
 "cells": [
  {
   "cell_type": "code",
   "execution_count": 1,
   "metadata": {},
   "outputs": [],
   "source": [
    "import tensorflow\n",
    "from tensorflow import keras\n",
    "from tensorflow.keras.datasets import mnist\n",
    "from tensorflow.keras import models , layers\n",
    "from tensorflow.keras.preprocessing.image import load_img , img_to_array\n",
    "from tensorflow.keras.utils import to_categorical\n",
    "import os"
   ]
  },
  {
   "cell_type": "code",
   "execution_count": 2,
   "metadata": {},
   "outputs": [],
   "source": [
    "(train_images, train_labels), (test_images, test_labels) = mnist.load_data()\n",
    "train_images = train_images.reshape((60000, 28, 28, 1))\n",
    "test_images = test_images.reshape((10000, 28, 28, 1))\n",
    "train_images = train_images.astype('float32') / 255\n",
    "test_images = test_images.astype('float32') / 255"
   ]
  },
  {
   "cell_type": "code",
   "execution_count": 3,
   "metadata": {},
   "outputs": [
    {
     "name": "stdout",
     "output_type": "stream",
     "text": [
      "Model: \"sequential\"\n",
      "_________________________________________________________________\n",
      "Layer (type)                 Output Shape              Param #   \n",
      "=================================================================\n",
      "conv2d (Conv2D)              (None, 26, 26, 32)        320       \n",
      "_________________________________________________________________\n",
      "max_pooling2d (MaxPooling2D) (None, 13, 13, 32)        0         \n",
      "_________________________________________________________________\n",
      "conv2d_1 (Conv2D)            (None, 11, 11, 64)        18496     \n",
      "_________________________________________________________________\n",
      "max_pooling2d_1 (MaxPooling2 (None, 5, 5, 64)          0         \n",
      "_________________________________________________________________\n",
      "conv2d_2 (Conv2D)            (None, 3, 3, 64)          36928     \n",
      "_________________________________________________________________\n",
      "flatten (Flatten)            (None, 576)               0         \n",
      "_________________________________________________________________\n",
      "dense (Dense)                (None, 64)                36928     \n",
      "_________________________________________________________________\n",
      "dense_1 (Dense)              (None, 10)                650       \n",
      "=================================================================\n",
      "Total params: 93,322\n",
      "Trainable params: 93,322\n",
      "Non-trainable params: 0\n",
      "_________________________________________________________________\n"
     ]
    }
   ],
   "source": [
    "model = models.Sequential()\n",
    "model.add(layers.Conv2D(32, (3, 3), activation='relu', input_shape=(28, 28, 1)))\n",
    "model.add(layers.MaxPooling2D((2, 2)))\n",
    "model.add(layers.Conv2D(64, (3, 3), activation='relu'))\n",
    "model.add(layers.MaxPooling2D((2, 2)))\n",
    "model.add(layers.Conv2D(64, (3, 3), activation='relu'))\n",
    "model.add(layers.Flatten())\n",
    "model.add(layers.Dense(64, activation='relu'))\n",
    "model.add(layers.Dense(10, activation='softmax'))\n",
    "model.summary()"
   ]
  },
  {
   "cell_type": "code",
   "execution_count": 4,
   "metadata": {
    "scrolled": false
   },
   "outputs": [
    {
     "name": "stdout",
     "output_type": "stream",
     "text": [
      "Train on 60000 samples\n",
      "Epoch 1/5\n",
      "60000/60000 [==============================] - 59s 987us/sample - loss: 0.1542 - accuracy: 0.9515\n",
      "Epoch 2/5\n",
      "60000/60000 [==============================] - 54s 894us/sample - loss: 0.0457 - accuracy: 0.9854\n",
      "Epoch 3/5\n",
      "60000/60000 [==============================] - 52s 868us/sample - loss: 0.0332 - accuracy: 0.9896\n",
      "Epoch 4/5\n",
      "60000/60000 [==============================] - 53s 882us/sample - loss: 0.0246 - accuracy: 0.9920\n",
      "Epoch 5/5\n",
      "60000/60000 [==============================] - 56s 931us/sample - loss: 0.0199 - accuracy: 0.9937\n"
     ]
    },
    {
     "data": {
      "text/plain": [
       "<tensorflow.python.keras.callbacks.History at 0x255bad5d8c8>"
      ]
     },
     "execution_count": 4,
     "metadata": {},
     "output_type": "execute_result"
    }
   ],
   "source": [
    "model.compile(optimizer='adam',\n",
    "              loss='sparse_categorical_crossentropy',\n",
    "              metrics=['accuracy'])\n",
    "\n",
    "model.fit(train_images, train_labels, epochs=5)"
   ]
  },
  {
   "cell_type": "code",
   "execution_count": 36,
   "metadata": {},
   "outputs": [],
   "source": [
    "prob = 0\n",
    "final_pred = 0\n",
    "\n",
    "def predict():\n",
    "    image = load_img('capture.png' , target_size=(28,28))\n",
    "    image = img_to_array(image)\n",
    "    r, g, b = image[:,:,0], image[:,:,1], image[:,:,2]\n",
    "    gray = 0.2989 * r + 0.5870 * g + 0.1140 * b\n",
    "    gray = 1-gray\n",
    "    gray = gray.reshape(1,28,28,1)\n",
    "    \n",
    "    pred = model.predict(gray)\n",
    "    \n",
    "    prob = 0\n",
    "    final_pred = 0\n",
    "    for i in range(10):\n",
    "        if(pred[0][i] > prob):\n",
    "            final_pred = i\n",
    "            prob = pred[0][i]\n",
    "        text.config(text = \"이 숫자는 \" + str(prob*100) + \"% 의 확률로 \" + str(final_pred) + \"입니다.\")"
   ]
  },
  {
   "cell_type": "code",
   "execution_count": 37,
   "metadata": {},
   "outputs": [],
   "source": [
    "from tkinter import *\n",
    "from PIL import ImageGrab"
   ]
  },
  {
   "cell_type": "code",
   "execution_count": 41,
   "metadata": {
    "scrolled": false
   },
   "outputs": [],
   "source": [
    "window = None\n",
    "canvas = None\n",
    "x1 , y1 = None , None\n",
    "wp = 35"
   ]
  },
  {
   "cell_type": "code",
   "execution_count": 42,
   "metadata": {},
   "outputs": [],
   "source": [
    "def mouseMove(event):\n",
    "    global x1, y1\n",
    "    x1 = event.x\n",
    "    y1 = event.y\n",
    "    canvas.create_line(x1, y1, x1+35, y1+35, width=wp, fill=\"black\")\n",
    "    \n",
    "def clearCanvas():\n",
    "    canvas.delete(\"all\")\n",
    "    \n",
    "def save():\n",
    "    x = window.winfo_rootx()\n",
    "    y = window.winfo_rooty()\n",
    "    w = window.winfo_width() + x\n",
    "    h = window.winfo_height() + y\n",
    "    \n",
    "    box = (x, y, w, h)\n",
    "    img=ImageGrab.grab(box)\n",
    "    saveas='capture.png'\n",
    "    img.save(saveas)\n",
    "    predict()\n",
    "    clearCanvas()"
   ]
  },
  {
   "cell_type": "code",
   "execution_count": null,
   "metadata": {},
   "outputs": [],
   "source": [
    "window = Tk()\n",
    "\n",
    "frame = Frame(window)\n",
    "frame.pack()\n",
    "\n",
    "canvas=Canvas(window, height=500,width=500)\n",
    "canvas.bind('<B1-Motion>', mouseMove)\n",
    "canvas.pack(side=BOTTOM)\n",
    "\n",
    "window.title(\"숫자인식 예제\")\n",
    "okbutton = Button(frame, text=\"인식하기\", fg = \"green\", command=save)\n",
    "okbutton.grid(row=1, column = 2)\n",
    "clear = Button(frame, text=\"지우기\", fg = \"red\", command=clearCanvas)\n",
    "clear.grid(row=1, column = 1)\n",
    "text = Label(frame, text = \"이 숫자는 \" + str(prob) + \"% 의 확률로 \" + str(final_pred) + \"입니다.\")\n",
    "text.grid(row=1 , column=3)\n",
    "\n",
    "window.mainloop() "
   ]
  }
 ],
 "metadata": {
  "kernelspec": {
   "display_name": "Python 3",
   "language": "python",
   "name": "python3"
  },
  "language_info": {
   "codemirror_mode": {
    "name": "ipython",
    "version": 3
   },
   "file_extension": ".py",
   "mimetype": "text/x-python",
   "name": "python",
   "nbconvert_exporter": "python",
   "pygments_lexer": "ipython3",
   "version": "3.7.6"
  }
 },
 "nbformat": 4,
 "nbformat_minor": 4
}
